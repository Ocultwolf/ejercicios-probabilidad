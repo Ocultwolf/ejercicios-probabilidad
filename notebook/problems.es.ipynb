{
 "cells": [
  {
   "cell_type": "markdown",
   "id": "a41f3622",
   "metadata": {},
   "source": [
    "# Ejercicios de probabilidad"
   ]
  },
  {
   "cell_type": "markdown",
   "id": "a6bdbd89",
   "metadata": {},
   "source": [
    "## Ejercicio 1 \n",
    "\n",
    "Dos dados se lanzan una vez y se observa el total obtenido. Usa una simulación para encontrar la probabilidad estimada de que la puntuación sea mayor a 7 o un número par. Una simulación es una repetición del mismo experimento multiples veces para observar su comportamiento:\n",
    "\n",
    "- Ejecuta el experimento 1000 veces (lanza 2 dados 1000 veces, y suma el número de ambos dados).\n",
    "- Lleva ua cuenta de los números y las veces que la suma fue mayor a 7 o un número par.\n",
    "- Divide el número del paso 2 entre el número de iteraciones(1000)."
   ]
  },
  {
   "cell_type": "code",
   "execution_count": null,
   "id": "8939d892",
   "metadata": {},
   "outputs": [
    {
     "name": "stdout",
     "output_type": "stream",
     "text": [
      "La probabilidad estimada de que la suma sea mayor a 7 o un número par: 0.6630\n"
     ]
    }
   ],
   "source": [
    "import random\n",
    "\n",
    "def lanzar_dado(n, caras):\n",
    "    def create_dado(n_caras):\n",
    "        return random.randint(1, n_caras)\n",
    "\n",
    "    dados = {}\n",
    "    for number in range(n):\n",
    "        dados.update({f'Dado{str(number+1)}': create_dado(caras)})\n",
    "\n",
    "    return dados\n",
    "\n",
    "def experimento(epocas, n_dados, n_caras, *condiciones):\n",
    "    n_aciertos = 0\n",
    "\n",
    "    for number in range(epocas):\n",
    "        \n",
    "\n",
    "        dados = lanzar_dado(n_dados, n_caras)\n",
    "        total = sum(dados.values())  \n",
    "\n",
    "        # Verificar si se cumple alguna de las condiciones\n",
    "        if any(condicion(total) for condicion in condiciones):\n",
    "            n_aciertos += 1\n",
    "\n",
    "    probabilidad = n_aciertos / epocas\n",
    "    return probabilidad\n",
    "\n",
    "condicion_mayor_a_7 = lambda total: total > 7\n",
    "condicion_par = lambda total: total % 2 == 0\n",
    "\n",
    "epocas = 1000\n",
    "n_dados = 2\n",
    "n_caras = 6\n",
    "\n",
    "probabilidad = experimento(epocas, n_dados, n_caras, condicion_mayor_a_7, condicion_par)\n",
    "\n",
    "print(f\"La probabilidad estimada de que la suma sea mayor a 7 o un número par: {probabilidad:.4f}\")\n",
    "\n",
    "\n",
    "#Si eres medio friki como yo ahora puedes calcular la probabilidad de tus dados de mas de 6 caras \n"
   ]
  },
  {
   "cell_type": "markdown",
   "id": "55732bca",
   "metadata": {},
   "source": [
    "## Ejercicio 2\n",
    "\n",
    "Una caja contiene 10 bolas blancas, 20 bolas rojas y 30 bolas verdes. Si tomamos 5 bolas de la caja reemplazándolas (tomando una bola, anotando el color y luego regresandola a la caja). Queremos saber la probabilidad de:\n",
    "\n",
    "1. Tomar 3 blancas y 2 rojas.\n",
    "2. Toas todas del mismo color.\n",
    "\n",
    "Ejecuta el experimento 1000 veces y calcula las probabilidades que mencionadas."
   ]
  },
  {
   "cell_type": "code",
   "execution_count": 2,
   "id": "23244d20",
   "metadata": {},
   "outputs": [
    {
     "name": "stdout",
     "output_type": "stream",
     "text": [
      "Probabilidad 1 (3 blancas y 2 rojas): 0.5073%\n",
      "Probabilidad 2 (todas del mismo color): 3.5486999999999997%\n"
     ]
    }
   ],
   "source": [
    "import random\n",
    "\n",
    "# Creación de la bolsa de bolas\n",
    "total = 'blancas ' * 10 + 'rojas ' * 20 + 'verdes ' * 30\n",
    "bolas = total.split()\n",
    "\n",
    "# Función para tomar bolas\n",
    "def take_balls(n):\n",
    "    return list(random.choices(bolas, k=n))\n",
    "\n",
    "# Función para simular lanzamientos\n",
    "def simular_lanzamientos(n):\n",
    "    activate1 = 0\n",
    "    activate2 = 0\n",
    "    turnos = []  \n",
    "    \n",
    "    for _ in range(n):\n",
    "        turnos.append(take_balls(5))\n",
    "\n",
    "   \n",
    "    for e in turnos:\n",
    "        blancas = e.count(\"blancas\")\n",
    "        rojas = e.count(\"rojas\")\n",
    "\n",
    "        \n",
    "        if blancas == 3 and rojas == 2:\n",
    "            activate1 += 1\n",
    "\n",
    "        \n",
    "        if all(element == e[0] for element in e):\n",
    "            activate2 += 1\n",
    "\n",
    "   \n",
    "    probabilidad1 = (activate1 / n) * 100\n",
    "    probabilidad2 = (activate2 / n) * 100\n",
    "\n",
    "    print(f\"Probabilidad 1 (3 blancas y 2 rojas): {probabilidad1}%\")\n",
    "    print(f\"Probabilidad 2 (todas del mismo color): {probabilidad2}%\")\n",
    "\n",
    "\n",
    "simular_lanzamientos(1000000)\n"
   ]
  }
 ],
 "metadata": {
  "kernelspec": {
   "display_name": "Python 3",
   "language": "python",
   "name": "python3"
  },
  "language_info": {
   "codemirror_mode": {
    "name": "ipython",
    "version": 3
   },
   "file_extension": ".py",
   "mimetype": "text/x-python",
   "name": "python",
   "nbconvert_exporter": "python",
   "pygments_lexer": "ipython3",
   "version": "3.11.4"
  }
 },
 "nbformat": 4,
 "nbformat_minor": 5
}
